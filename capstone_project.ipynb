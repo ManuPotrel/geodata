{
  "nbformat": 4,
  "nbformat_minor": 0,
  "metadata": {
    "colab": {
      "name": "capstone_project",
      "provenance": []
    },
    "kernelspec": {
      "name": "python3",
      "display_name": "Python 3"
    },
    "language_info": {
      "name": "python"
    }
  },
  "cells": [
    {
      "cell_type": "markdown",
      "metadata": {
        "id": "i5QSJp7iyE65"
      },
      "source": [
        "# IBM Certification - Capstone project"
      ]
    },
    {
      "cell_type": "markdown",
      "metadata": {
        "id": "QYrCQuZfxopg"
      },
      "source": [
        "This notebook is gonna be the starting point of the capstone project for the IBM professional certification."
      ]
    },
    {
      "cell_type": "code",
      "metadata": {
        "id": "WQzKFUm0x5oM"
      },
      "source": [
        "import numpy as np\n",
        "import pandas as pd"
      ],
      "execution_count": 1,
      "outputs": []
    },
    {
      "cell_type": "code",
      "metadata": {
        "colab": {
          "base_uri": "https://localhost:8080/"
        },
        "id": "6bMxbAmwyAd4",
        "outputId": "d7e2a89b-cbd4-4d26-e35e-7aa9167e3c7e"
      },
      "source": [
        "print('Hello Capstone Project Course!')"
      ],
      "execution_count": 2,
      "outputs": [
        {
          "output_type": "stream",
          "text": [
            "Hello Capstone Project Course!\n"
          ],
          "name": "stdout"
        }
      ]
    },
    {
      "cell_type": "code",
      "metadata": {
        "id": "_boqhP4YyCKK"
      },
      "source": [
        ""
      ],
      "execution_count": null,
      "outputs": []
    }
  ]
}